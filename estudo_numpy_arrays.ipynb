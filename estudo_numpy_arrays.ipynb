{
  "nbformat": 4,
  "nbformat_minor": 0,
  "metadata": {
    "colab": {
      "provenance": []
    },
    "kernelspec": {
      "name": "python3",
      "display_name": "Python 3"
    },
    "language_info": {
      "name": "python"
    }
  },
  "cells": [
    {
      "cell_type": "code",
      "source": [
        "import numpy as np"
      ],
      "metadata": {
        "id": "bkxZnsfGcwh5"
      },
      "execution_count": null,
      "outputs": []
    },
    {
      "cell_type": "markdown",
      "source": [
        "# **CRIANDO ARRAYS UNIDIMENSIONAIS**\n",
        "\n",
        "**sintaxe**: vetor = numpy.array([valor1, valor2, valorn])\n",
        "\n",
        "Um par de colchetes somente representa uma única linha, onde as colunas e seus elementos são separados por vírgulas."
      ],
      "metadata": {
        "id": "GE_aQBVp2JGz"
      }
    },
    {
      "cell_type": "code",
      "execution_count": null,
      "metadata": {
        "id": "l0RiTqnC179v",
        "colab": {
          "base_uri": "https://localhost:8080/"
        },
        "outputId": "03d41068-0383-4de6-e80f-cd55e95028f5"
      },
      "outputs": [
        {
          "output_type": "stream",
          "name": "stdout",
          "text": [
            "Vetor criado: [1 1 1]\n"
          ]
        },
        {
          "output_type": "execute_result",
          "data": {
            "text/plain": [
              "numpy.ndarray"
            ]
          },
          "metadata": {},
          "execution_count": 5
        }
      ],
      "source": [
        "vetor = np.array([1, 1, 1])\n",
        "print(f'Vetor criado: {vetor}')\n",
        "type(vetor) #verificar o tipo do objeto"
      ]
    },
    {
      "cell_type": "markdown",
      "source": [
        "# **CRIANDO ARRAYS BIDIMENSIONAIS (LINHA E COLUNA)**\n",
        "\n",
        "**sintaxe**: vetor = numpy.array([  ],[  ])\n",
        "\n",
        "Cada par de colchetes                              internos representa uma linha, onde seus elementos de coluna são separados por vírgula\n"
      ],
      "metadata": {
        "id": "PHW5BxYz28Si"
      }
    },
    {
      "cell_type": "code",
      "source": [
        "matriz = np.array([[1, 2, 3], [4, 5, 6]])\n",
        "print(f'Matriz criada 2x3:\\n {matriz}')\n",
        "type(matriz)\n"
      ],
      "metadata": {
        "id": "CjH56iUi3BWf",
        "colab": {
          "base_uri": "https://localhost:8080/"
        },
        "outputId": "b5ceaa1d-c575-4ae7-9a0c-2b9017dd492c"
      },
      "execution_count": null,
      "outputs": [
        {
          "output_type": "stream",
          "name": "stdout",
          "text": [
            "Matriz criada 2x3:\n",
            " [[1 2 3]\n",
            " [4 5 6]]\n"
          ]
        },
        {
          "output_type": "execute_result",
          "data": {
            "text/plain": [
              "numpy.ndarray"
            ]
          },
          "metadata": {},
          "execution_count": 9
        }
      ]
    },
    {
      "cell_type": "markdown",
      "source": [
        "# **CRIANDO ARRAYS COM TODOS OS ELEMENTOS 0**\n",
        "\n",
        "**Sintaxe**:\n",
        "\n",
        "array = numpy.zeros([linhas, colunas]) #com colchetes\n",
        "\n",
        "ou\n",
        "\n",
        "array = numpy.zeros((linhas, colunas)) #com parênteses\n",
        "\n",
        "\n",
        "\n",
        "Deve-se passar a dimensão do array.\n",
        "Uma dimensão será um vetor.\n",
        "Duas dimensões será uma matriz."
      ],
      "metadata": {
        "id": "p05elMS57UEI"
      }
    },
    {
      "cell_type": "code",
      "source": [
        "vetor = np.zeros(5, dtype=int)\n",
        "print(f'Vetor criado: {vetor}')\n",
        "\n",
        "print()\n",
        "\n",
        "matriz = np.zeros([2, 3], dtype=int)\n",
        "print(f'Matriz criada 2x3:\\n {matriz}')\n"
      ],
      "metadata": {
        "id": "B6050Ah_72eS",
        "colab": {
          "base_uri": "https://localhost:8080/"
        },
        "outputId": "3a4ce7e1-f48f-42ec-db53-82e7d488346c"
      },
      "execution_count": null,
      "outputs": [
        {
          "output_type": "stream",
          "name": "stdout",
          "text": [
            "Vetor criado: [0 0 0 0 0]\n",
            "\n",
            "Matriz criada 2x3:\n",
            " [[0 0 0]\n",
            " [0 0 0]]\n"
          ]
        }
      ]
    },
    {
      "cell_type": "markdown",
      "source": [
        "# **CRIANDO ARRAYS COM TODOS OS ELEMENTOS 1**\n",
        "\n",
        "Sintaxe: array = numpy.ones([linhas, colunas])\n",
        "\n",
        "Deve-se passar a dimensão do array.\n",
        "Uma dimensão será um vetor.\n",
        "Duas dimensões será uma matriz."
      ],
      "metadata": {
        "id": "CKEpW69V8VMH"
      }
    },
    {
      "cell_type": "code",
      "source": [
        "vetor = np.ones(3, dtype=int)\n",
        "print(f'Vetor criado: {vetor}')\n",
        "\n",
        "print()\n",
        "\n",
        "matriz = np.ones((3, 3))\n",
        "print(f'Matriz criada 3x3:\\n {matriz}')"
      ],
      "metadata": {
        "id": "4wRWlyXR8a3p"
      },
      "execution_count": null,
      "outputs": []
    },
    {
      "cell_type": "markdown",
      "source": [
        "# **CRIANDO MATRIZ IDENTIDADE**\n",
        "\n",
        "Sintaxe: array = numpy.eyes(dimensão)\n",
        "\n",
        "Deve-se passar a dimensão da matriz, que por ser identidade é sempre uma matriz quadrada."
      ],
      "metadata": {
        "id": "nLf8XgTL826H"
      }
    },
    {
      "cell_type": "code",
      "source": [
        "matrizI= np.eye(3)\n",
        "print(f'Matriz identidade 3x3:\\n {matrizI}')"
      ],
      "metadata": {
        "id": "w8aJXF1S9S66",
        "colab": {
          "base_uri": "https://localhost:8080/"
        },
        "outputId": "443a30bf-cab9-48cf-9c9f-02e0d6d6f480"
      },
      "execution_count": null,
      "outputs": [
        {
          "output_type": "stream",
          "name": "stdout",
          "text": [
            "Matriz identidade 3x3:\n",
            " [[1. 0. 0.]\n",
            " [0. 1. 0.]\n",
            " [0. 0. 1.]]\n"
          ]
        }
      ]
    },
    {
      "cell_type": "markdown",
      "source": [
        "# **CRIANDO MATRIZ COM DIAGONAL PRINCIPAL FORMADA POR UM ÚNICO VALOR E OS OUTROS ELEMENTOS IGUAL A ZERO**\n",
        "\n",
        "**Sintaxe**: matriz = numpy.diag([valor])\n",
        "\n",
        "**Nota**: a quantidade de valores da diagonal principal dará a dimensão da matriz (sempre quadrada)\n",
        "\n"
      ],
      "metadata": {
        "id": "g0LQ0E-aaEaQ"
      }
    },
    {
      "cell_type": "code",
      "source": [
        "matrizD = np.diag([10, 10, 10])\n",
        "print(f'Matriz diagonal 3x3:\\n {matrizD}')\n"
      ],
      "metadata": {
        "id": "68hk11DibCoL",
        "colab": {
          "base_uri": "https://localhost:8080/"
        },
        "outputId": "b8ee7450-a9bc-44b4-b4f9-144076572a7b"
      },
      "execution_count": null,
      "outputs": [
        {
          "output_type": "stream",
          "name": "stdout",
          "text": [
            "Matriz diagonal 3x3:\n",
            " [[10  0  0]\n",
            " [ 0 10  0]\n",
            " [ 0  0 10]]\n"
          ]
        }
      ]
    },
    {
      "cell_type": "markdown",
      "source": [
        "# **USANDO ARANGE PARA CRIAR VETORES**\n",
        "\n",
        "**Sintaxe**: array = numpy.arange(inicio, fim, passo)\n",
        "\n",
        "**Nota**: o valor indicado no fim nunca entra no arranjo."
      ],
      "metadata": {
        "id": "OH9cYTFfdtBf"
      }
    },
    {
      "cell_type": "code",
      "source": [
        "vetor0 = np.arange(10)\n",
        "print(f'Vetor criado com passo 1: {vetor0}')\n",
        "\n",
        "vetor1 = np.arange(1, 10)\n",
        "print(f'Vetor criado com passo 1: {vetor1}')\n",
        "\n",
        "vetor2 = np.arange(1, 10, 2)\n",
        "print(f'Vetor criado com passo 2: {vetor2}')"
      ],
      "metadata": {
        "id": "KR_k3K6XeFSB",
        "colab": {
          "base_uri": "https://localhost:8080/"
        },
        "outputId": "0b9169f4-ffb9-49f8-b050-c66fcf9d06e0"
      },
      "execution_count": null,
      "outputs": [
        {
          "output_type": "stream",
          "name": "stdout",
          "text": [
            "Vetor criado com passo 1: [0 1 2 3 4 5 6 7 8 9]\n",
            "Vetor criado com passo 1: [1 2 3 4 5 6 7 8 9]\n",
            "Vetor criado com passo 2: [1 3 5 7 9]\n"
          ]
        }
      ]
    },
    {
      "cell_type": "markdown",
      "source": [
        "# **CRIANDO ARRAYS UNIDIMENSIONAIS COM LINSPACE**\n",
        "\n",
        "**Sintaxe**: array = numpy.linspace(inicio, fim, quantidade de elementos)\n",
        "\n",
        "**Nota**: o passo é criado automaticamente para gerar a quantidade necessária."
      ],
      "metadata": {
        "id": "3DaAmL0derQ0"
      }
    },
    {
      "cell_type": "code",
      "source": [
        "vetor3 = np.linspace(1, 10, 10)\n",
        "print(f'Vetor criado com 10 elementos: {vetor3}')"
      ],
      "metadata": {
        "id": "3BMmgp5Fe4P8",
        "colab": {
          "base_uri": "https://localhost:8080/"
        },
        "outputId": "c3ec146f-c81d-42ad-d39f-a665264cc269"
      },
      "execution_count": null,
      "outputs": [
        {
          "output_type": "stream",
          "name": "stdout",
          "text": [
            "Vetor criado com 10 elementos: [ 1.  2.  3.  4.  5.  6.  7.  8.  9. 10.]\n"
          ]
        }
      ]
    },
    {
      "cell_type": "code",
      "source": [
        "vetor4 = np.linspace(1, 10, 20)\n",
        "print(f'Vetor criado com 20 elementos: {vetor4}')"
      ],
      "metadata": {
        "id": "vwqswbh6CL0h",
        "colab": {
          "base_uri": "https://localhost:8080/"
        },
        "outputId": "d18ae25f-abc0-455a-9cf7-591f3c25e3a0"
      },
      "execution_count": null,
      "outputs": [
        {
          "output_type": "stream",
          "name": "stdout",
          "text": [
            "Vetor criado com 20 elementos: [ 1.          1.47368421  1.94736842  2.42105263  2.89473684  3.36842105\n",
            "  3.84210526  4.31578947  4.78947368  5.26315789  5.73684211  6.21052632\n",
            "  6.68421053  7.15789474  7.63157895  8.10526316  8.57894737  9.05263158\n",
            "  9.52631579 10.        ]\n"
          ]
        }
      ]
    },
    {
      "cell_type": "markdown",
      "source": [
        "# **USANDO VSTACK E HSTACK PARA CRIAR ARRAYS**\n",
        "\n",
        "**VSTACK**\n",
        "\n",
        "\n",
        "**Sintaxe**: array = numpy.vstack((array1, array2))\n",
        "\n",
        "Adiciona elementos de um ou mais array na vertical. Os arrays tem q ter o mesmo número de colunas.\n",
        "\n",
        "**HSTACK**\n",
        "\n",
        "**Sintaxe**: array = numpy.hstack((array1, array2))\n",
        "\n",
        "Adiciona elementos de um ou mais array na horizontal. Os arrays tem q ter o mesmo número de linhas."
      ],
      "metadata": {
        "id": "CIbr6Sk2gv-E"
      }
    },
    {
      "cell_type": "code",
      "source": [
        "#usando vstack - um embaixo do outro (cria-se outro vetor)\n",
        "#junta-se os vetores na vertical\n",
        "vetor1 = np.array([1, 2, 3]) # 1X3\n",
        "vetor2 = np.array([4, 5, 6]) # 1x3\n",
        "vetor3 = np.vstack((vetor1, vetor2))\n",
        "print(f'Vetor criado com vstack:\\n {vetor3}')\n",
        "\n",
        "#usando hstack - - um ao lado do outro (cria-se outro vetor)\n",
        "#junta-se os vetores na horizontal\n",
        "vetor4 = np.hstack((vetor1, vetor2))\n",
        "print(f'Vetor criado com hstack:\\n {vetor4}')"
      ],
      "metadata": {
        "id": "Jhlixl9uhjSH",
        "colab": {
          "base_uri": "https://localhost:8080/"
        },
        "outputId": "2f91172c-7994-46ea-856f-ffb666595d1a"
      },
      "execution_count": null,
      "outputs": [
        {
          "output_type": "stream",
          "name": "stdout",
          "text": [
            "Vetor criado com vstack:\n",
            " [[1 2 3]\n",
            " [4 5 6]]\n",
            "Vetor criado com hstack:\n",
            " [1 2 3 4 5 6]\n"
          ]
        }
      ]
    },
    {
      "cell_type": "markdown",
      "source": [
        "# **LENDO DADOS PELO TECLADO PARA UM VETOR**"
      ],
      "metadata": {
        "id": "RdOv3drqsozC"
      }
    },
    {
      "cell_type": "code",
      "source": [
        "vetor = np.arange(5, dtype=int)*0 # ou vetor = np.zeros(5)\n",
        "print(f'Vetor inicial criado: {vetor}')\n",
        "\n",
        "#lendo dados para o vetor\n",
        "for i in range(0, len(vetor)):\n",
        "  vetor[i] = int(input(f'Digite o valor da posição {i+1}: '))\n",
        "\n",
        "print(f'Vetor final criado: {vetor}')"
      ],
      "metadata": {
        "id": "MtgGhSz4stPd",
        "colab": {
          "base_uri": "https://localhost:8080/"
        },
        "outputId": "4f51b5e2-afac-4149-ebed-6515b0abd4f5"
      },
      "execution_count": null,
      "outputs": [
        {
          "output_type": "stream",
          "name": "stdout",
          "text": [
            "Vetor inicial criado: [0 0 0 0 0]\n",
            "Digite o valor da posição 0: 1\n",
            "Digite o valor da posição 1: 2\n",
            "Digite o valor da posição 2: 3\n",
            "Digite o valor da posição 3: 4\n",
            "Digite o valor da posição 4: 5\n",
            "Vetor final criado: [1 2 3 4 5]\n"
          ]
        }
      ]
    },
    {
      "cell_type": "markdown",
      "source": [
        "# **LENDO DADOS PELO TECLADO PARA UMA MATRIZ**"
      ],
      "metadata": {
        "id": "8KLXQRnPsyUY"
      }
    },
    {
      "cell_type": "code",
      "source": [
        "matriz = np.zeros((2, 2,))\n",
        "print(f'Matriz inicial criada: {matriz}')\n",
        "for i in range(0, len(matriz)): #caminhando por linhas\n",
        "  for j in range(0, len(matriz[i])): #caminhando por colunas\n",
        "    matriz[i][j] = int(input(f'Digite o valor da posição [{i+1}][{j+1}]: '))\n",
        "\n"
      ],
      "metadata": {
        "id": "5e5XGPKws14x",
        "colab": {
          "base_uri": "https://localhost:8080/"
        },
        "outputId": "37829f27-77a4-475d-fd4b-8400116552c9"
      },
      "execution_count": null,
      "outputs": [
        {
          "name": "stdout",
          "output_type": "stream",
          "text": [
            "Matriz inicial criada: [[0. 0.]\n",
            " [0. 0.]]\n",
            "Digite o valor da posição [1][1]: 1\n",
            "Digite o valor da posição [1][2]: 2\n",
            "Digite o valor da posição [2][1]: 3\n",
            "Digite o valor da posição [2][2]: 4\n"
          ]
        }
      ]
    }
  ]
}